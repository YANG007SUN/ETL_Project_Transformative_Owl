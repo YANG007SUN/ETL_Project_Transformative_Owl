{
 "cells": [
  {
   "cell_type": "markdown",
   "metadata": {},
   "source": [
    "# Scrape Redfin"
   ]
  },
  {
   "cell_type": "code",
   "execution_count": 359,
   "metadata": {},
   "outputs": [
    {
     "ename": "ModuleNotFoundError",
     "evalue": "No module named 'config'",
     "output_type": "error",
     "traceback": [
      "\u001b[0;31m-----------------------------------------------------------------\u001b[0m",
      "\u001b[0;31mModuleNotFoundError\u001b[0m             Traceback (most recent call last)",
      "\u001b[0;32m<ipython-input-359-f0ab50ff7699>\u001b[0m in \u001b[0;36m<module>\u001b[0;34m\u001b[0m\n\u001b[1;32m      8\u001b[0m \u001b[0;34m\u001b[0m\u001b[0m\n\u001b[1;32m      9\u001b[0m \u001b[0;31m# Census API Key\u001b[0m\u001b[0;34m\u001b[0m\u001b[0;34m\u001b[0m\u001b[0;34m\u001b[0m\u001b[0m\n\u001b[0;32m---> 10\u001b[0;31m \u001b[0;32mfrom\u001b[0m \u001b[0mconfig\u001b[0m \u001b[0;32mimport\u001b[0m \u001b[0mapi_key\u001b[0m\u001b[0;34m\u001b[0m\u001b[0;34m\u001b[0m\u001b[0m\n\u001b[0m\u001b[1;32m     11\u001b[0m \u001b[0mc\u001b[0m \u001b[0;34m=\u001b[0m \u001b[0mCensus\u001b[0m\u001b[0;34m(\u001b[0m\u001b[0mapi_key\u001b[0m\u001b[0;34m,\u001b[0m \u001b[0myear\u001b[0m\u001b[0;34m=\u001b[0m\u001b[0;36m2013\u001b[0m\u001b[0;34m)\u001b[0m\u001b[0;34m\u001b[0m\u001b[0;34m\u001b[0m\u001b[0m\n",
      "\u001b[0;31mModuleNotFoundError\u001b[0m: No module named 'config'"
     ]
    }
   ],
   "source": [
    "from bs4 import BeautifulSoup as bs\n",
    "from splinter import Browser\n",
    "from splinter.exceptions import ElementDoesNotExist\n",
    "import requests\n",
    "import re\n",
    "import pandas as pd\n",
    "import time\n"
   ]
  },
  {
   "cell_type": "code",
   "execution_count": 304,
   "metadata": {},
   "outputs": [],
   "source": [
    "# open browser\n",
    "executable_path = {'executable_path': '/usr/local/bin/chromedriver'}\n",
    "browser = Browser('chrome', **executable_path, headless=False)\n"
   ]
  },
  {
   "cell_type": "markdown",
   "metadata": {},
   "source": [
    "### Start Scraping and load data into `homecard_list`"
   ]
  },
  {
   "cell_type": "code",
   "execution_count": 311,
   "metadata": {},
   "outputs": [],
   "source": [
    "homecard_list = []\n",
    "sub_dict= {}\n",
    "\n",
    "# get first 10 pages\n",
    "for i in range(10):\n",
    "    \n",
    "    url = f\"https://www.redfin.com/county/321/CA/Los-Angeles-County/Page-{i+1}\"\n",
    "    browser.visit(url)\n",
    "    time.sleep(2)\n",
    "    \n",
    "    # create soup object\n",
    "    html = browser.html\n",
    "    soup = bs(html, \"html5lib\")\n",
    "\n",
    "    # get list of house cards on the first page\n",
    "    homecards = soup.find_all(\"div\",\"HomeCardContainer\")\n",
    "    \n",
    "    # get list of house cards on the first page\n",
    "    homecards = soup.find_all(\"div\",\"HomeCardContainer\")\n",
    "\n",
    "    for homecard in homecards:\n",
    "\n",
    "        sub_dict= {}\n",
    "        # store values into sub_dict\n",
    "        sub_dict[\"beds\"] = homecard.find(\"div\",\"HomeStatsV2\").find_all(\"div\",\"stats\")[0].text # numer of beds\n",
    "        sub_dict[\"baths\"] = homecard.find(\"div\",\"HomeStatsV2\").find_all(\"div\",\"stats\")[1].text # number of baths\n",
    "        sub_dict[\"area\"]  = homecard.find(\"div\",\"HomeStatsV2\").find_all(\"div\",\"stats\")[2].text # area\n",
    "        sub_dict[\"price\"] = homecard.find(\"span\",\"homecardV2Price\").text # house price\n",
    "        sub_dict[\"address\"] = homecard.find(\"div\",\"homeAddressV2\").span.text # address\n",
    "        sub_dict[\"link\"] = url+homecard.a[\"href\"]\n",
    "\n",
    "        # append dict to list\n",
    "        homecard_list.append(sub_dict)\n",
    "\n",
    "\n",
    "        \n"
   ]
  },
  {
   "cell_type": "markdown",
   "metadata": {},
   "source": [
    "### Save `homecard_list` into a pandas dataframe"
   ]
  },
  {
   "cell_type": "code",
   "execution_count": 317,
   "metadata": {},
   "outputs": [
    {
     "data": {
      "text/html": [
       "<div>\n",
       "<style scoped>\n",
       "    .dataframe tbody tr th:only-of-type {\n",
       "        vertical-align: middle;\n",
       "    }\n",
       "\n",
       "    .dataframe tbody tr th {\n",
       "        vertical-align: top;\n",
       "    }\n",
       "\n",
       "    .dataframe thead th {\n",
       "        text-align: right;\n",
       "    }\n",
       "</style>\n",
       "<table border=\"1\" class=\"dataframe\">\n",
       "  <thead>\n",
       "    <tr style=\"text-align: right;\">\n",
       "      <th></th>\n",
       "      <th>beds</th>\n",
       "      <th>baths</th>\n",
       "      <th>area</th>\n",
       "      <th>price</th>\n",
       "      <th>address</th>\n",
       "      <th>link</th>\n",
       "    </tr>\n",
       "  </thead>\n",
       "  <tbody>\n",
       "    <tr>\n",
       "      <th>0</th>\n",
       "      <td>3 Beds</td>\n",
       "      <td>1.5 Baths</td>\n",
       "      <td>1,290 Sq. Ft.</td>\n",
       "      <td>$879,000</td>\n",
       "      <td>2620 E Glenoaks Blvd, Glendale, CA 91206</td>\n",
       "      <td>https://www.redfin.com/county/321/CA/Los-Angel...</td>\n",
       "    </tr>\n",
       "    <tr>\n",
       "      <th>1</th>\n",
       "      <td>3 Beds</td>\n",
       "      <td>2 Baths</td>\n",
       "      <td>1,360 Sq. Ft.</td>\n",
       "      <td>$799,990</td>\n",
       "      <td>5358 E Conant St, Long Beach, CA 90808</td>\n",
       "      <td>https://www.redfin.com/county/321/CA/Los-Angel...</td>\n",
       "    </tr>\n",
       "    <tr>\n",
       "      <th>2</th>\n",
       "      <td>3 Beds</td>\n",
       "      <td>1 Bath</td>\n",
       "      <td>1,014 Sq. Ft.</td>\n",
       "      <td>$499,900</td>\n",
       "      <td>4733 Fir St, Pico Rivera, CA 90660</td>\n",
       "      <td>https://www.redfin.com/county/321/CA/Los-Angel...</td>\n",
       "    </tr>\n",
       "    <tr>\n",
       "      <th>3</th>\n",
       "      <td>2 Beds</td>\n",
       "      <td>2 Baths</td>\n",
       "      <td>1,073 Sq. Ft.</td>\n",
       "      <td>$379,900</td>\n",
       "      <td>25925 Oak St #112, Lomita, CA 90717</td>\n",
       "      <td>https://www.redfin.com/county/321/CA/Los-Angel...</td>\n",
       "    </tr>\n",
       "    <tr>\n",
       "      <th>4</th>\n",
       "      <td>3 Beds</td>\n",
       "      <td>1 Bath</td>\n",
       "      <td>1,034 Sq. Ft.</td>\n",
       "      <td>$849,000</td>\n",
       "      <td>2716 182nd St, Redondo Beach, CA 90278</td>\n",
       "      <td>https://www.redfin.com/county/321/CA/Los-Angel...</td>\n",
       "    </tr>\n",
       "  </tbody>\n",
       "</table>\n",
       "</div>"
      ],
      "text/plain": [
       "     beds      baths           area     price  \\\n",
       "0  3 Beds  1.5 Baths  1,290 Sq. Ft.  $879,000   \n",
       "1  3 Beds    2 Baths  1,360 Sq. Ft.  $799,990   \n",
       "2  3 Beds     1 Bath  1,014 Sq. Ft.  $499,900   \n",
       "3  2 Beds    2 Baths  1,073 Sq. Ft.  $379,900   \n",
       "4  3 Beds     1 Bath  1,034 Sq. Ft.  $849,000   \n",
       "\n",
       "                                    address  \\\n",
       "0  2620 E Glenoaks Blvd, Glendale, CA 91206   \n",
       "1    5358 E Conant St, Long Beach, CA 90808   \n",
       "2        4733 Fir St, Pico Rivera, CA 90660   \n",
       "3       25925 Oak St #112, Lomita, CA 90717   \n",
       "4    2716 182nd St, Redondo Beach, CA 90278   \n",
       "\n",
       "                                                link  \n",
       "0  https://www.redfin.com/county/321/CA/Los-Angel...  \n",
       "1  https://www.redfin.com/county/321/CA/Los-Angel...  \n",
       "2  https://www.redfin.com/county/321/CA/Los-Angel...  \n",
       "3  https://www.redfin.com/county/321/CA/Los-Angel...  \n",
       "4  https://www.redfin.com/county/321/CA/Los-Angel...  "
      ]
     },
     "execution_count": 317,
     "metadata": {},
     "output_type": "execute_result"
    }
   ],
   "source": [
    "housedata = pd.DataFrame(columns = [\"beds\",\"baths\",\"area\",\"price\",\"address\",\"link\"],data = homecard_list)\n",
    "housedata.head()"
   ]
  },
  {
   "cell_type": "markdown",
   "metadata": {},
   "source": [
    "### Clean up the data"
   ]
  },
  {
   "cell_type": "code",
   "execution_count": 329,
   "metadata": {},
   "outputs": [
    {
     "data": {
      "text/plain": [
       "3 Beds     73\n",
       "4 Beds     45\n",
       "2 Beds     36\n",
       "1 Bed      17\n",
       "5 Beds     12\n",
       "—Beds      11\n",
       "6 Beds      3\n",
       "8 Beds      2\n",
       "10 Beds     1\n",
       "Name: beds, dtype: int64"
      ]
     },
     "execution_count": 329,
     "metadata": {},
     "output_type": "execute_result"
    }
   ],
   "source": [
    "housedata[\"beds\"].value_counts()"
   ]
  },
  {
   "cell_type": "code",
   "execution_count": 339,
   "metadata": {},
   "outputs": [
    {
     "data": {
      "text/plain": [
       "['-Beds']"
      ]
     },
     "execution_count": 339,
     "metadata": {},
     "output_type": "execute_result"
    }
   ],
   "source": [
    "txt = \"-Beds\"\n",
    "re.split(\"\\s\",txt)"
   ]
  },
  {
   "cell_type": "code",
   "execution_count": 334,
   "metadata": {},
   "outputs": [
    {
     "data": {
      "text/plain": [
       "'2'"
      ]
     },
     "execution_count": 334,
     "metadata": {},
     "output_type": "execute_result"
    }
   ],
   "source": [
    "x"
   ]
  },
  {
   "cell_type": "code",
   "execution_count": null,
   "metadata": {},
   "outputs": [],
   "source": []
  }
 ],
 "metadata": {
  "kernelspec": {
   "display_name": "Python 3",
   "language": "python",
   "name": "python3"
  },
  "language_info": {
   "codemirror_mode": {
    "name": "ipython",
    "version": 3
   },
   "file_extension": ".py",
   "mimetype": "text/x-python",
   "name": "python",
   "nbconvert_exporter": "python",
   "pygments_lexer": "ipython3",
   "version": "3.7.6"
  }
 },
 "nbformat": 4,
 "nbformat_minor": 4
}
